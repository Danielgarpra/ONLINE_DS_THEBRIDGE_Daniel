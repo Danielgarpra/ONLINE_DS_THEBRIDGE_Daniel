{
  "cells": [
    {
      "cell_type": "markdown",
      "metadata": {
        "id": "vigJnuAMSU4x"
      },
      "source": [
        "![TheBridge_logo_RGB_color.jpg](attachment:TheBridge_logo_RGB_color.jpg)"
      ]
    },
    {
      "cell_type": "markdown",
      "metadata": {
        "id": "2xmnwM17SU4y"
      },
      "source": [
        "![ejercicios.png](attachment:ejercicios.png)"
      ]
    },
    {
      "cell_type": "markdown",
      "metadata": {
        "id": "liorA-1ZSU4y"
      },
      "source": [
        "# Ejercicios Clases y Objetos"
      ]
    },
    {
      "cell_type": "markdown",
      "metadata": {
        "id": "5xXUz5l9SU4z"
      },
      "source": [
        "## Ejercicio 1\n",
        "Somos una empresa que tiene varias tiendas de electrodomesticos. Necesitamos un programa para manejar las tiendas, ver las ventas que han tenido, cuántos empleados hay, etc... Para ello vamos a modelizar la tienda en una clase, que tendrá las siguientes características:\n",
        "* Nombre clase: \"Tienda\"\n",
        "* Atributos comunes:\n",
        "    * Tipo: \"Electrodomésticos\"\n",
        "    * Abierta: True\n",
        "* Atributos propios de cada tienda:\n",
        "    * Nombre - String\n",
        "    * Dirección - String\n",
        "    * Número de empleados - int\n",
        "    * Ventas ultimos 3 meses - Lista de 3 numeros\n",
        "* Método para calcular las ventas de todos los meses, que devuelva un numero con todas las ventas.\n",
        "* Método que calcula la media de ventas de los ultimos meses, por empleado\n",
        "* Método que devuelve en un string el nombre de la tienda, junto con su dirección.\n",
        "* Método que obtiene las ventas del último mes.\n",
        "* Método para dar una proyección de las ventas en caso de haber invertido X dinero en marketing en esa tienda. Siendo X el parámetro de entrada. Si X es menor de 1000, las ventas de los ultimos 3 meses hubiesen sido de (1.2 x ventas), si es mayor o igual de 1000, las ventas hubiesen sido de (1.5 x venta). El método reescribe el atributo de ventas en los últimos 3 meses, y además devuelve las ventas con el aumento.\n",
        "\n",
        "Se pide:\n",
        "1. Implementar la clase \"Tienda\"\n",
        "2. Crear tres tiendas con datos inventados\n",
        "3. Comprueba en al menos una de ellas, todo lo implementado en la clase tienda (sus atributos, media de ventas, ventas/empleado...)\n",
        "3. Calcular las ventas del último mes de todas las tiendas. Para ello usa el bucle `for`\n",
        "4. Imprime por pantalla los nombres de las tiendas cuya dirección lleve el string \"Avenida\"\n",
        "5. Seguro que ya has hecho este apartado... Documenta la clase :)"
      ]
    },
    {
      "cell_type": "code",
      "execution_count": 21,
      "metadata": {
        "id": "5cLQcLxfSU4z",
        "outputId": "626d5718-a524-4e9c-ffc3-63d697131aaf",
        "colab": {
          "base_uri": "https://localhost:8080/"
        }
      },
      "outputs": [
        {
          "output_type": "stream",
          "name": "stdout",
          "text": [
            "14000\n",
            "43000\n",
            "13000\n",
            "\n",
            "\n",
            "7000.0\n",
            "10750.0\n",
            "13000.0\n",
            "\n",
            "\n",
            "Boniato Calle Benito Gutierrez 3\n",
            "Patata Avenida Palomar 4\n",
            "Alcachofa Calle Goya 13\n",
            "\n",
            "\n",
            "3000\n",
            "14000\n",
            "4000\n",
            "\n",
            "\n",
            "21000.0\n",
            "51600.0\n",
            "19500.0\n"
          ]
        }
      ],
      "source": [
        "class Tienda:\n",
        "  Tipo= \"Electrodomésticos\"\n",
        "  Abierta=True\n",
        "'''\n",
        "Esta clase guarda el nombre de las tiendas con sus direcciones, el número de empleados y las ventas de los últimos 3 meses\n",
        "y mediante unos métodos definidos te devuelve los datos pedidos\n",
        "'''\n",
        "  def __init__(self,nombre,direccion,n_empleados,ventas_ultimos_3_meses):\n",
        "    self.nombre=nombre\n",
        "    self.direccion=direccion\n",
        "    self.n_empleados=n_empleados\n",
        "    self.ventas=ventas_ultimos_3_meses\n",
        "\n",
        "  def ventas_todos_meses(self):\n",
        "    return sum(self.ventas)\n",
        "\n",
        "  def media_ventas_empleados(self):\n",
        "    return ventas_todos_meses(self)/self.n_empleados\n",
        "\n",
        "  def devolver_nombre(self):\n",
        "    return self.nombre + \" \" + self.direccion\n",
        "\n",
        "  def ventas_ultimo_mes(self):\n",
        "    return self.ventas[-1]\n",
        "\n",
        "  def proyeccion(self,x):\n",
        "      if x<1000:\n",
        "          return 1.2*ventas_todos_meses(self)\n",
        "      if x>=1000:\n",
        "          return 1.5*ventas_todos_meses(self)\n",
        "\n",
        "\n",
        "\n",
        "tienda_1=Tienda(\"Boniato\",\"Calle Benito Gutierrez 3\",2,[5000,6000,3000])\n",
        "tienda_2=Tienda(\"Patata\",\"Avenida Palomar 4\",4,[13000,16000,14000])\n",
        "tienda_3=Tienda(\"Alcachofa\",\"Calle Goya 13\",1,[3000,6000,4000])\n",
        "\n",
        "#Mostramos la suma de las ventas en estos 3 últimos meses\n",
        "print(tienda_1.ventas_todos_meses())\n",
        "print(tienda_2.ventas_todos_meses())\n",
        "print(tienda_3.ventas_todos_meses())\n",
        "print(\"\\n\")\n",
        "\n",
        "#Mostramos las ganancias en los 3 últimos meses dividido por el número de empleados\n",
        "print(tienda_1.media_ventas_empleados())\n",
        "print(tienda_2.media_ventas_empleados())\n",
        "print(tienda_3.media_ventas_empleados())\n",
        "print(\"\\n\")\n",
        "\n",
        "#Devolvemos el nombre y la direccion\n",
        "print(tienda_1.devolver_nombre())\n",
        "print(tienda_2.devolver_nombre())\n",
        "print(tienda_3.devolver_nombre())\n",
        "print(\"\\n\")\n",
        "\n",
        "#Ventas del últimos mes\n",
        "print(tienda_1.ventas_ultimo_mes())\n",
        "print(tienda_2.ventas_ultimo_mes())\n",
        "print(tienda_3.ventas_ultimo_mes())\n",
        "print(\"\\n\")\n",
        "\n",
        "#Calculamos la proyeccion y recalculamos los datos\n",
        "print(tienda_1.proyeccion(2000))\n",
        "print(tienda_2.proyeccion(800))\n",
        "print(tienda_3.proyeccion(1500))\n",
        "\n",
        "if \"Avenida\" in tienda_1.direccion:\n",
        "  print(tienda_1.direccion)\n",
        "if \"Avenida\" in tienda_2.direccion:\n",
        "  print(tienda_2.direccion)\n",
        "if \"Avenida\" in tienda_3.direccion:\n",
        "  print(tienda_3.direccion)"
      ]
    },
    {
      "cell_type": "markdown",
      "metadata": {
        "id": "WEBq7EpsSU40"
      },
      "source": [
        "## Ejercicio 2\n",
        "En este ejercicio vamos a implementar una clase *Perro* en Python. La clase tiene las siguientes características:\n",
        "* Cosas que sabemos seguro que tiene un perro\n",
        "    * Tiene 4 patas\n",
        "    * 2 orejas\n",
        "    * 2 ojos\n",
        "    * Una velocidad de 0. Por defecto, el perro está parado\n",
        "* Cuando se inicialice:\n",
        "    * El perro será de una determinada raza\n",
        "    * Por defecto tendrá pelo \"Marrón\", a no ser que se diga lo contrario.\n",
        "    * Por defecto no tendrá dueño, a no ser que se diga lo contrario.\n",
        "    \n",
        "* Dispondrá también de un método llamado andar, que tiene un argumento de entrada (aumento_velocidad). Este valor se le sumará a la velocidad que ya llevaba el perro.\n",
        "* Necesita otro método (parar), donde pondremos la velocidad a 0.\n",
        "* Otro método llamado \"ladrar\", que tendrá un argumento de entrada, y la salida será el siguiente string: \"GUAU!\" + el argumento de entrada.\n",
        "\n",
        "\n",
        "Se pide:\n",
        "* Implementa la clase *Perro*\n",
        "* Crea un objeto de tipo *Perro*, sin dueño\n",
        "* Comprueba que están bien todos sus atributos\n",
        "* Prueba que ande, y comprueba su velocidad\n",
        "* Páralo\n",
        "* Documenta la clase *Perro*"
      ]
    },
    {
      "cell_type": "code",
      "execution_count": 25,
      "metadata": {
        "id": "DpEWvbwGSU40",
        "outputId": "660c294a-7139-416f-8bbd-85716bdb233c",
        "colab": {
          "base_uri": "https://localhost:8080/"
        }
      },
      "outputs": [
        {
          "output_type": "stream",
          "name": "stdout",
          "text": [
            "{'raza': 'Labrador', 'pelo': 'blanco', 'owner': False}\n",
            "3\n",
            "0\n",
            "GUAU! MIAU \n"
          ]
        }
      ],
      "source": [
        "class Perro:\n",
        "  '''\n",
        "  Clase Perro para atribuir características a diferentes perros y poder modificarlas\n",
        "  Parameters:\n",
        "  raza: distingue la raza del perro\n",
        "  pelo: color del pelo, por defecto es marron\n",
        "  owner: si tiene propietario o no, por defecto no tiene propietario\n",
        "  '''\n",
        "  patas=4\n",
        "  orejas=2\n",
        "  ojos=2\n",
        "  velocidad=0\n",
        "  def __init__(self,raza,pelo=\"marron\",owner=False):\n",
        "    self.raza=raza\n",
        "    self.pelo=pelo\n",
        "    self.owner=owner\n",
        "\n",
        "  def andar(self,aumento_velocidad):\n",
        "    self.velocidad+=aumento_velocidad\n",
        "\n",
        "  def parar(self):\n",
        "    self.velocidad=0\n",
        "\n",
        "  def ladrar(self,palabra):\n",
        "    return \"GUAU!\" + palabra\n",
        "\n",
        "Mushu=Perro(\"Labrador\",\"blanco\")\n",
        "print(Mushu.__dict__)\n",
        "Mushu.andar(3)\n",
        "print(Mushu.velocidad)\n",
        "Mushu.parar()\n",
        "print(Mushu.velocidad)\n",
        "print(Mushu.ladrar(\" MIAU \"))\n",
        "\n"
      ]
    }
  ],
  "metadata": {
    "kernelspec": {
      "display_name": "Python 3",
      "language": "python",
      "name": "python3"
    },
    "language_info": {
      "codemirror_mode": {
        "name": "ipython",
        "version": 3
      },
      "file_extension": ".py",
      "mimetype": "text/x-python",
      "name": "python",
      "nbconvert_exporter": "python",
      "pygments_lexer": "ipython3",
      "version": "3.7.9"
    },
    "colab": {
      "provenance": []
    }
  },
  "nbformat": 4,
  "nbformat_minor": 0
}