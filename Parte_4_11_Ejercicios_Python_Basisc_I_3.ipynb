{
  "cells": [
    {
      "cell_type": "markdown",
      "metadata": {
        "id": "gpi_6G1BEU58"
      },
      "source": [
        "![TheBridge_logo_RGB_color.jpg](attachment:TheBridge_logo_RGB_color.jpg)"
      ]
    },
    {
      "cell_type": "markdown",
      "metadata": {
        "id": "B_BKBI3xEU5_"
      },
      "source": [
        "![imagen](./img/ejercicios.png)"
      ]
    },
    {
      "cell_type": "markdown",
      "metadata": {
        "id": "hsdRj8XKEU5_"
      },
      "source": [
        "## EJERCICIOS PYTHON BASICO 3:\n",
        "## Operaciones matemáticas, comparación y booleanas"
      ]
    },
    {
      "cell_type": "markdown",
      "metadata": {
        "id": "XWNjwPwREU6B"
      },
      "source": [
        "Completa los siguiente ejercicios, la solución completa a los mismos se publicarán en el repo del curso a lo largo del sprint. En algunos ejercicios se muestra la solución final, para que puedas comprobar que lo has hecho bien, pero lo importante es el código que generes. ¡Vaaamos, a ello...!"
      ]
    },
    {
      "cell_type": "markdown",
      "metadata": {
        "id": "uYoBN7LYEU6E"
      },
      "source": [
        "![ejercicio.png](./img/ejercicio.png)\n",
        "\n",
        "\n",
        "## Ejercicio 1\n",
        "Tenemos las siguientes variables:\n",
        "\n",
        "```Python\n",
        "A = 4\n",
        "B = \"Text\"\n",
        "C = 4.1\n",
        "```\n",
        "\n",
        "Comprueba:\n",
        "1. Si A y B son equivalentes\n",
        "2. Si A y C NO son equivalentes\n",
        "3. Si A es mayor que C\n",
        "4. Si C es menor o igual que A\n",
        "5. Si B NO es equivalente a C"
      ]
    },
    {
      "cell_type": "code",
      "execution_count": 3,
      "metadata": {
        "id": "zkMavDVZEU6F",
        "outputId": "5facd6af-587b-4d53-d0eb-109703c93a67",
        "colab": {
          "base_uri": "https://localhost:8080/"
        }
      },
      "outputs": [
        {
          "output_type": "stream",
          "name": "stdout",
          "text": [
            "False\n",
            "True\n",
            "False\n",
            "False\n",
            "True\n"
          ]
        }
      ],
      "source": [
        "A = 4\n",
        "B = \"Text\"\n",
        "C = 4.1\n",
        "print(A==B)\n",
        "print(A!=C)\n",
        "print(A>C)\n",
        "print(C<=A)\n",
        "print(B!=C)"
      ]
    },
    {
      "cell_type": "markdown",
      "metadata": {
        "id": "_EZXpoguEU6H"
      },
      "source": [
        "![ejercicio.png](./img/ejercicio.png)\n",
        "\n",
        "## Ejercicio 2\n",
        "Crea un programa donde se recojan dos inputs del usuario, y el output del programa sea si esos inputs son iguales o no"
      ]
    },
    {
      "cell_type": "code",
      "execution_count": 8,
      "metadata": {
        "id": "MygBQL5eEU6K",
        "outputId": "3cab1046-f1ae-45e3-8ca9-7866b12312e9",
        "colab": {
          "base_uri": "https://localhost:8080/"
        }
      },
      "outputs": [
        {
          "output_type": "stream",
          "name": "stdout",
          "text": [
            "Dime algo: efd\n",
            "Dime algo mas: gf\n",
            "Son diferentes\n"
          ]
        }
      ],
      "source": [
        "var1=input (\"Dime algo: \")\n",
        "var2=input(\"Dime algo mas: \")\n",
        "if var1 == var2:\n",
        "  print(\"Son iguales\")\n",
        "else:\n",
        "  print(\"Son diferentes\")"
      ]
    },
    {
      "cell_type": "markdown",
      "metadata": {
        "id": "Trnqq-7iEU6L"
      },
      "source": [
        "![ejercicio.png](./img/ejercicio.png)\n",
        "\n",
        "## Ejercicio 3\n",
        "Mismo programa que en 2, pero en esta ocasión tienen que ser tres inputs y dos salidas. Una de las salidas que nos indique si todos son iguales, y la otra si al menos dos inputs sí que lo son"
      ]
    },
    {
      "cell_type": "code",
      "execution_count": 17,
      "metadata": {
        "id": "6S5Yw82hEU6M",
        "outputId": "53569785-80c9-47c8-bd00-2378f1f42881",
        "colab": {
          "base_uri": "https://localhost:8080/"
        }
      },
      "outputs": [
        {
          "output_type": "stream",
          "name": "stdout",
          "text": [
            "Dime algo: 4\n",
            "Dime algo mas: 4\n",
            "Dime algo mas: 4\n",
            "Son iguales los tres\n"
          ]
        }
      ],
      "source": [
        "var1=input (\"Dime algo: \")\n",
        "var2=input(\"Dime algo mas: \")\n",
        "var3=input(\"Dime algo mas: \")\n",
        "if var1 == var2 and var2 == var3:\n",
        "  print(\"Son iguales los tres\")\n",
        "elif var1==var2 or var1==var3 or var2==var3:\n",
        "  print(\"Son iguales dos\")"
      ]
    },
    {
      "cell_type": "markdown",
      "metadata": {
        "id": "mW0_nDajEU6N"
      },
      "source": [
        "![ejercicio.png](./img/ejercicio.png)\n",
        "\n",
        "## Ejercicio 4\n",
        "Razona sin ejecutar código el output que obtendremos de las siguientes sentencias\n",
        "1. True and True and False\n",
        "2. not ((True or False) and (True or False))\n",
        "3. (False or False or False or True) and False\n",
        "4. not False and True and not True"
      ]
    },
    {
      "cell_type": "markdown",
      "metadata": {
        "id": "bgHJOkElEU6O"
      },
      "source": [
        "1. False\n",
        "2. False\n",
        "3. False\n",
        "4. False"
      ]
    }
  ],
  "metadata": {
    "kernelspec": {
      "display_name": "Curso_Online_DATA",
      "language": "python",
      "name": "python3"
    },
    "language_info": {
      "codemirror_mode": {
        "name": "ipython",
        "version": 3
      },
      "file_extension": ".py",
      "mimetype": "text/x-python",
      "name": "python",
      "nbconvert_exporter": "python",
      "pygments_lexer": "ipython3",
      "version": "3.11.5"
    },
    "orig_nbformat": 4,
    "colab": {
      "provenance": []
    }
  },
  "nbformat": 4,
  "nbformat_minor": 0
}