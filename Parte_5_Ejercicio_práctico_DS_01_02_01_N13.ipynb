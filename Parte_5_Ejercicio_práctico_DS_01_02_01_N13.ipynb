{
 "cells": [
  {
   "cell_type": "markdown",
   "metadata": {
    "colab_type": "text",
    "id": "view-in-github"
   },
   "source": [
    "<a href=\"https://colab.research.google.com/github/Danielgarpra/ONLINE_DS_THEBRIDGE_Daniel/blob/main/Parte_5_Ejercicio_pr%C3%A1ctico_DS_01_02_01_N13.ipynb\" target=\"_parent\"><img src=\"https://colab.research.google.com/assets/colab-badge.svg\" alt=\"Open In Colab\"/></a>"
   ]
  },
  {
   "cell_type": "markdown",
   "metadata": {
    "id": "9l3HMgm6RWxF"
   },
   "source": [
    "![TheBridge_logo_RGB_color.jpg](attachment:TheBridge_logo_RGB_color.jpg)"
   ]
  },
  {
   "cell_type": "markdown",
   "metadata": {
    "id": "RGg9iWpoRWxG"
   },
   "source": [
    "![ejercicios.png](attachment:ejercicios.png)"
   ]
  },
  {
   "cell_type": "markdown",
   "metadata": {
    "id": "AyOlWS2nRWxH"
   },
   "source": [
    "## PRACTICA OBLIGATORIA: COLECCIONES Y FUNCIONES"
   ]
  },
  {
   "cell_type": "markdown",
   "metadata": {
    "id": "6UOgb0KVRWxH"
   },
   "source": [
    "* La práctica obligatoria de esta unidad consiste varios ejercicios de programación libre a completar sobre Colecciones y Funciones. Descarga este notebook en tu ordenador y trabaja en local.  \n",
    "* Recuerda que debes subirla a tu repositorio personal antes de la sesión en vivo para que puntúe adecuadamente y puedas participar en dicha sesión.  \n",
    "* Recuerda también que no es necesario que esté perfecta, sólo es necesario que se vea el esfuerzo.\n",
    "* Esta práctica se resolverá en la sesión en vivo correspondiente y la solución se publicará en el repo del curso."
   ]
  },
  {
   "cell_type": "markdown",
   "metadata": {
    "id": "j3yu-tEjRWxH"
   },
   "source": [
    "### Contenidos"
   ]
  },
  {
   "cell_type": "markdown",
   "metadata": {
    "id": "kO-fLH39RWxH"
   },
   "source": [
    "## Ejercicio 1\n",
    "Eleva todos los elementos de la lista al cuadrado\n",
    "> ```ejer_2 = [1,2,3,4,5]```"
   ]
  },
  {
   "cell_type": "code",
   "execution_count": 5,
   "metadata": {
    "colab": {
     "base_uri": "https://localhost:8080/"
    },
    "id": "ks5l3yi7RWxH",
    "outputId": "b329a9d3-4f6a-4b9e-be13-e84d3e86ff3c"
   },
   "outputs": [
    {
     "name": "stdout",
     "output_type": "stream",
     "text": [
      "1\n",
      "4\n",
      "9\n",
      "16\n",
      "25\n"
     ]
    }
   ],
   "source": [
    "ejer_2=[1,2,3,4,5]\n",
    "for i in ejer_2:\n",
    "    print(i**2)\n"
   ]
  },
  {
   "cell_type": "markdown",
   "metadata": {
    "id": "kI_Xr5oFRWxI"
   },
   "source": [
    "## Ejercicio 2\n",
    "Haz un programa que detecte todos los duplicados de un elemento en una lista:\n",
    "* Utiliza una variable duplicado para asignarle el valor del elemento del que queremos encontrar todos sus duplicados.\n",
    "* El programa debe devolver todos los índices de los elementos duplicados.\n",
    "* Aplícalo para encontrar los duplicados de \"un\", \"es\" y \"binario\" de:  \n",
    "\n",
    ">```ejer_3 = [\"Un\", \"árbol\", \"binario\", \"es\", \"una\", \"estructura\", \"de\", \"un\", \"tipo\", \"particular\", \"a\", \"veces\", \"no\", \"es\", \"ni\", \"binario\"]```\n"
   ]
  },
  {
   "cell_type": "code",
   "execution_count": 11,
   "metadata": {
    "colab": {
     "base_uri": "https://localhost:8080/"
    },
    "id": "cLY9WB7YRWxI",
    "outputId": "ae815a34-c50f-4cb8-e8db-c7aec00d8211"
   },
   "outputs": [
    {
     "name": "stdout",
     "output_type": "stream",
     "text": [
      "del índice 1 se repiten los índices:\n",
      "del índice 2 se repiten los índices:\n",
      "del índice 3 se repiten los índices:\n",
      "16  \n",
      "del índice 4 se repiten los índices:\n",
      "14  \n",
      "del índice 5 se repiten los índices:\n",
      "del índice 6 se repiten los índices:\n",
      "del índice 7 se repiten los índices:\n",
      "del índice 8 se repiten los índices:\n",
      "del índice 9 se repiten los índices:\n",
      "del índice 10 se repiten los índices:\n",
      "del índice 11 se repiten los índices:\n",
      "del índice 12 se repiten los índices:\n",
      "del índice 13 se repiten los índices:\n",
      "del índice 14 se repiten los índices:\n",
      "4  \n",
      "del índice 15 se repiten los índices:\n",
      "del índice 16 se repiten los índices:\n",
      "3  \n"
     ]
    }
   ],
   "source": [
    "ejer_3 = [\"Un\", \"árbol\", \"binario\", \"es\", \"una\", \"estructura\", \"de\", \"un\", \"tipo\", \"particular\", \"a\", \"veces\", \"no\", \"es\", \"ni\", \"binario\"]\n",
    "x=0\n",
    "y=0\n",
    "for i in ejer_3 :\n",
    "  y=0\n",
    "  x=x+1\n",
    "  print(\"del índice\",x,\"se repiten los índices:\")\n",
    "  for n in ejer_3:\n",
    "    y=y+1\n",
    "    if x!=y and i==n:\n",
    "      print(y,\" \")"
   ]
  },
  {
   "cell_type": "markdown",
   "metadata": {
    "id": "3WrBd5QaRWxI"
   },
   "source": [
    "## Ejercicio 3\n",
    "1. ¿Cuántas veces se repite el 3 en la siguiente tupla?\n",
    "2. Crea una tupla nueva con los elementos desde la posicion 5 a la 10.\n",
    "3. ¿Cuántos elementos tiene la tupla `ejer_3`?\n",
    "> ```ejer_9 = (3, 20, 3, 47, 19, 3, 29, 45, 67, 78, 90, 3, 3, 5, 2, 4, 7, 9, 4, 2, 4, 3, 3, 4, 6, 7)```"
   ]
  },
  {
   "cell_type": "code",
   "execution_count": 14,
   "metadata": {
    "colab": {
     "base_uri": "https://localhost:8080/"
    },
    "id": "bkv_R5LYRWxI",
    "outputId": "9dd9dc6e-27d5-4479-aec7-82c48791ce31"
   },
   "outputs": [
    {
     "name": "stdout",
     "output_type": "stream",
     "text": [
      "el 3 se repite  7 veces\n",
      "(19, 3, 29, 45, 67)\n",
      "la tupla tiene  26 elementos\n"
     ]
    }
   ],
   "source": [
    "ejer_9 = (3, 20, 3, 47, 19, 3, 29, 45, 67, 78, 90, 3, 3, 5, 2, 4, 7, 9, 4, 2, 4, 3, 3, 4, 6, 7)\n",
    "x=0\n",
    "for i in ejer_9:\n",
    "  if 3==i:\n",
    "    x=x+1\n",
    "print(\"el 3 se repite \",x,\"veces\")\n",
    "nueva_tupla=ejer_9[4:9]\n",
    "print(nueva_tupla)\n",
    "print(\"la tupla tiene \",len(ejer_9),\"elementos\")"
   ]
  },
  {
   "cell_type": "markdown",
   "metadata": {
    "id": "6g8Y54AeRWxI"
   },
   "source": [
    "## Ejercicio 4\n",
    "Comprueba si el numero 60 esta en la tupla del ejercicio 3"
   ]
  },
  {
   "cell_type": "code",
   "execution_count": 15,
   "metadata": {
    "colab": {
     "base_uri": "https://localhost:8080/"
    },
    "id": "F8VTEZonRWxI",
    "outputId": "553ee029-77a3-4faa-9334-0188c8b9456b"
   },
   "outputs": [
    {
     "name": "stdout",
     "output_type": "stream",
     "text": [
      "No está\n"
     ]
    }
   ],
   "source": [
    "ejer_9 = (3, 20, 3, 47, 19, 3, 29, 45, 67, 78, 90, 3, 3, 5, 2, 4, 7, 9, 4, 2, 4, 3, 3, 4, 6, 7)\n",
    "for i in ejer_9:\n",
    "  if 60==i:\n",
    "    print(\"Sí está\")\n",
    "    break\n",
    "else:\n",
    "  print(\"No está\")"
   ]
  },
  {
   "cell_type": "markdown",
   "metadata": {
    "id": "y0fg-ZA6RWxI"
   },
   "source": [
    "## Ejercicio 5\n",
    "1. Convierte la tupla del ejercicio 3 en una lista\n",
    "2. Convierte la tupla del ejercicio 3 en un set\n",
    "3. Convierte la tupla del ejercicio 3 en un diccionario. Usa también los indices"
   ]
  },
  {
   "cell_type": "code",
   "execution_count": 16,
   "metadata": {
    "colab": {
     "base_uri": "https://localhost:8080/"
    },
    "id": "_O5hXr01RWxI",
    "outputId": "48ffa156-17d4-4054-b099-b3836f5d7441"
   },
   "outputs": [
    {
     "name": "stdout",
     "output_type": "stream",
     "text": [
      "[3, 20, 3, 47, 19, 3, 29, 45, 67, 78, 90, 3, 3, 5, 2, 4, 7, 9, 4, 2, 4, 3, 3, 4, 6, 7]\n",
      "{2, 3, 67, 5, 4, 7, 6, 9, 45, 78, 47, 19, 20, 90, 29}\n",
      "{0: 3, 1: 20, 2: 3, 3: 47, 4: 19, 5: 3, 6: 29, 7: 45, 8: 67, 9: 78, 10: 90, 11: 3, 12: 3, 13: 5, 14: 2, 15: 4, 16: 7, 17: 9, 18: 4, 19: 2, 20: 4, 21: 3, 22: 3, 23: 4, 24: 6, 25: 7}\n"
     ]
    }
   ],
   "source": [
    "ejer_9 = (3, 20, 3, 47, 19, 3, 29, 45, 67, 78, 90, 3, 3, 5, 2, 4, 7, 9, 4, 2, 4, 3, 3, 4, 6, 7)\n",
    "lista=list(ejer_9)\n",
    "print(lista)\n",
    "lista=set(lista)\n",
    "print(lista)\n",
    "lista=dict(enumerate(ejer_9))\n",
    "print(lista)"
   ]
  },
  {
   "cell_type": "markdown",
   "metadata": {
    "id": "eOdWWbxvRWxJ"
   },
   "source": [
    "## Ejercicio 6\n",
    "Multiplica todos los valores del diccionario\n",
    "> ```ejer_6 = {1: 11, 2: 22, 3: 33, 4: 44, 5: 55}```"
   ]
  },
  {
   "cell_type": "code",
   "execution_count": 20,
   "metadata": {
    "colab": {
     "base_uri": "https://localhost:8080/"
    },
    "id": "KcuByovKRWxJ",
    "outputId": "dbb51f90-6a91-4bc1-d2d7-8aca8f644b18"
   },
   "outputs": [
    {
     "name": "stdout",
     "output_type": "stream",
     "text": [
      "19326120\n",
      "19326120\n"
     ]
    }
   ],
   "source": [
    "ejer_6 = {1: 11, 2: 22, 3: 33, 4: 44, 5: 55}\n",
    "n=0\n",
    "Mult=1\n",
    "for i in ejer_6:\n",
    "  n=n+1\n",
    "  Mult=Mult*ejer_6[n]\n",
    "print(Mult)"
   ]
  },
  {
   "cell_type": "markdown",
   "metadata": {
    "id": "W7TUSaKRRWxJ"
   },
   "source": [
    "## Ejercicio 7\n",
    "\n",
    "1. Crea un diccionario que describa un libro, con los siguientes campos o claves: \"titulo\",\"autor\",\"idioma original\",\"año de publicación\".\n",
    "2. Crea un a lista, llamada librería.\n",
    "3. Añade cuatro libros a tu elección a la librería."
   ]
  },
  {
   "cell_type": "code",
   "execution_count": null,
   "metadata": {
    "colab": {
     "base_uri": "https://localhost:8080/"
    },
    "id": "d-IMRvxRRWxJ",
    "outputId": "9f315747-becd-4ce3-ce20-ee0ef34b635d"
   },
   "outputs": [
    {
     "name": "stdout",
     "output_type": "stream",
     "text": [
      "{'título': ['El mundo de Sofía', 'Fahrenheit 451', 'Un mundo feliz', 'Klaus y Lucas'], 'autor': 'Italico', 'idioma original': 'Italiano', 'año de publicación': '1983'}\n"
     ]
    }
   ],
   "source": [
    "diccionario={\"título\":\"El Barón Rampante\",\"autor\":\"Italico\",\"idioma original\":\"Italiano\",\"año de publicación\":\"1983\"}\n",
    "libreria=list\n",
    "libreria=[\"El mundo de Sofía\",\"Fahrenheit 451\",\"Un mundo feliz\",\"Klaus y Lucas\"]\n"
   ]
  },
  {
   "cell_type": "markdown",
   "metadata": {
    "id": "glMoedjYRWxJ"
   },
   "source": [
    "## Ejercicio 8\n",
    "Modifica los valores del idioma de todos los libros del ejercicio anterior para que sea \"esperanto\"\n"
   ]
  },
  {
   "cell_type": "code",
   "execution_count": 28,
   "metadata": {
    "colab": {
     "base_uri": "https://localhost:8080/"
    },
    "id": "veNdC-uwRWxJ",
    "outputId": "8b817509-2b5a-47cd-d8f8-b9eefb99f7d9"
   },
   "outputs": [
    {
     "name": "stdout",
     "output_type": "stream",
     "text": [
      "{'título': ['El mundo de Sofía', 'Fahrenheit 451', 'Un mundo feliz', 'Klaus y Lucas'], 'autor': ['odergard', 'Luis', 'Manuel', 'Carlos'], 'idioma original': ['esperanto', 'esperanto', 'esperanto', 'esperanto'], 'año de publicación': ['1973', '1988', '1954', '2020']}\n"
     ]
    }
   ],
   "source": [
    "#No tiene mucho sentido la pregunta, he hecho esto para poder hacer el resto de preguntas:\n",
    "diccionario['título']=libreria\n",
    "diccionario['autor']=[\"odergard\",\"Luis\",\"Manuel\",\"Carlos\"]\n",
    "diccionario['idioma original']=[\"esperanto\",\"esperanto\",\"esperanto\",\"esperanto\"]\n",
    "diccionario['año de publicación']=[\"1973\",\"1988\",\"1954\",\"2020\"]\n",
    "print(diccionario)"
   ]
  },
  {
   "cell_type": "markdown",
   "metadata": {
    "id": "DRCJG04KRWxJ"
   },
   "source": [
    "## Ejercicio 9\n",
    "1. Escribe un programa que dada una variable titulo busque los libros que hay en la librería con ese título. Si no se encuentra debe devolver el mensaje `Ese no lo tengo, ¿mola?`\n",
    "2. Pruena que el programa con uno de tus libros y con otro que no contenga tu librería."
   ]
  },
  {
   "cell_type": "code",
   "execution_count": 31,
   "metadata": {
    "colab": {
     "base_uri": "https://localhost:8080/"
    },
    "id": "eWHdJi9BRWxJ",
    "outputId": "7526a1c5-587c-46ca-dd7a-dc213dba7609"
   },
   "outputs": [
    {
     "name": "stdout",
     "output_type": "stream",
     "text": [
      "Qué libro quieres?Mannsa\n",
      "Ese no lo tengo, ¿mola?\n"
     ]
    }
   ],
   "source": [
    "var=input(\"Qué libro quieres?\")\n",
    "for i in diccionario[\"título\"]:\n",
    "  if var==i:\n",
    "    print(\"Sí está\")\n",
    "    break\n",
    "else:\n",
    "  print(\"Ese no lo tengo, ¿mola?\")"
   ]
  },
  {
   "cell_type": "markdown",
   "metadata": {
    "id": "17YOpYuFRWxJ"
   },
   "source": [
    "## Ejercicio 10\n",
    "Convierte el programa del ejercicio 2 en una función al que se le pase el valor a buscar como un argumento posicional"
   ]
  },
  {
   "cell_type": "code",
   "execution_count": 51,
   "metadata": {
    "colab": {
     "base_uri": "https://localhost:8080/"
    },
    "id": "xbj0LgvnRWxJ",
    "outputId": "9d000f5c-1b3e-4c4d-a05d-863d0630c78a"
   },
   "outputs": [
    {
     "name": "stdout",
     "output_type": "stream",
     "text": [
      "introduce un dato:es\n",
      "El valor del valor \"es\" se encuentra en el índice o en los índices: 4 14 "
     ]
    }
   ],
   "source": [
    "def funcion_ejer_2(dato_intr,lista):\n",
    "  y=0\n",
    "  z=0\n",
    "  print(f\"El valor del valor \\\"{dato_intr}\\\" se encuentra en el índice o en los índices: \",end=\"\")\n",
    "  for n in lista:\n",
    "    y=y+1\n",
    "    if dato_intr==n:\n",
    "      z=y\n",
    "      print(z,end=\" \")\n",
    "\n",
    "\n",
    "ejer_3 = [\"Un\", \"árbol\", \"binario\", \"es\", \"una\", \"estructura\", \"de\", \"un\", \"tipo\", \"particular\", \"a\", \"veces\", \"no\", \"es\", \"ni\", \"binario\"]\n",
    "dato=input(\"introduce un dato:\")\n",
    "funcion_ejer_2(dato,ejer_3)\n"
   ]
  },
  {
   "cell_type": "markdown",
   "metadata": {
    "id": "xZ-sWJxPRWxJ"
   },
   "source": [
    "## Ejercicio 11\n",
    "Convierte el programa del ejercicio 9 en una función al que se le pasen como argumentos la librería, posicional, y el título, argumento keyword con valor \"ninguno\", por defecto."
   ]
  },
  {
   "cell_type": "code",
   "execution_count": null,
   "metadata": {
    "id": "4-JrsMdNRWxK"
   },
   "outputs": [],
   "source": [
    "#Mi ejercicio está mal, no sé muy bien que hay que hacer:\n",
    "def funcion_ejer_9(diccionario_int,**titulo_int):\n",
    "\n",
    "  for i in diccionario_int[\"título\"]:\n",
    "    if var==i:\n",
    "      print(\"Sí está\")\n",
    "      break\n",
    "  else:\n",
    "    print(\"Ese no lo tengo, ¿mola?\")\n",
    "\n",
    "var=input(\"Qué libro quieres?\")\n",
    "funcion_ejer_9(libreria,titulo)"
   ]
  },
  {
   "cell_type": "markdown",
   "metadata": {
    "id": "FtJir95QRWxK"
   },
   "source": [
    "## Ejercicio 12\n",
    "Solicitar al usuario que ingrese su dirección email. Imprimir un mensaje indicando si la dirección es válida o no, valiéndose de una función para decidirlo. Una dirección se considerará válida si contiene el símbolo \"@\"."
   ]
  },
  {
   "cell_type": "code",
   "execution_count": 53,
   "metadata": {
    "colab": {
     "base_uri": "https://localhost:8080/"
    },
    "id": "sk852IZ8RWxK",
    "outputId": "656a5641-0939-46df-fd65-1bbdde1ee114"
   },
   "outputs": [
    {
     "name": "stdout",
     "output_type": "stream",
     "text": [
      "Introduce tu email:dani@\n",
      "Válido\n"
     ]
    }
   ],
   "source": [
    "email=input(\"Introduce tu email:\")\n",
    "for i in email:\n",
    "  if i==\"@\":\n",
    "    print(\"Válido\")\n",
    "    break\n",
    "else:\n",
    "  print(\"Inválido\")"
   ]
  },
  {
   "cell_type": "markdown",
   "metadata": {
    "id": "Kw1MWBwBRWxK"
   },
   "source": [
    "## Ejercicio 13\n",
    "Escribe una función que compruebe si un DNI es válido, devolviendo `True` en caso afirmativo.  \n",
    "En primer lugar, el DNI debe tener entre 7 y 8 dígitos numéricos.  \n",
    "Para saber si la letra del DNI es correcta puedes utilizar el siguiente fragmento de código:\n",
    ">```Python\n",
    ">DNI= 55555555\n",
    ">palabra='TRWAGMYFPDXBNJZSQVHLCKE'\n",
    ">print('La letra del DNI es: ', palabra[DNI%23])\n",
    ">````\n"
   ]
  },
  {
   "cell_type": "code",
   "execution_count": 2,
   "metadata": {
    "colab": {
     "base_uri": "https://localhost:8080/"
    },
    "id": "F5Z9rSHqRWxK",
    "outputId": "d8c1932b-ca9e-4e75-f3b5-b5e155918d8d"
   },
   "outputs": [
    {
     "name": "stdout",
     "output_type": "stream",
     "text": [
      "1\n",
      "True\n"
     ]
    }
   ],
   "source": [
    "DNI_intro=input(\"Introduce tu DNI:\")\n",
    "numeros=[]\n",
    "letra=[]\n",
    "for a in DNI_intro:\n",
    "    if a.isalpha():  # Si el carácter es una letra\n",
    "        letra.append(a)\n",
    "    elif a.isdigit():  # Si el carácter es un número\n",
    "        numeros.append(a)\n",
    "\n",
    "long_letra=len(letra)\n",
    "#Paso la lista letra a string, para poder compararla con palabra que es también un string\n",
    "letra=str(letra[0])\n",
    "palabra='TRWAGMYFPDXBNJZSQVHLCKE'\n",
    "#Deberá tener una sola letra, si tiene más será false:\n",
    "if long_letra>1:\n",
    "  resultado=0\n",
    "else:\n",
    "\n",
    "#Comprobamos los demás condicionantes\n",
    "  if len(numeros)==7 or len(numeros)==8:\n",
    "    for i in palabra:\n",
    "        if letra==i:\n",
    "          resultado=1\n",
    "          print(resultado)\n",
    "          break\n",
    "        else:\n",
    "          resultado=0\n",
    "  else:\n",
    "    resultado=0\n",
    "\n",
    "print(bool(resultado))\n",
    "\n"
   ]
  }
 ],
 "metadata": {
  "colab": {
   "include_colab_link": true,
   "provenance": []
  },
  "kernelspec": {
   "display_name": "Python 3",
   "name": "python3"
  },
  "language_info": {
   "codemirror_mode": {
    "name": "ipython",
    "version": 3
   },
   "file_extension": ".py",
   "mimetype": "text/x-python",
   "name": "python",
   "nbconvert_exporter": "python",
   "pygments_lexer": "ipython3",
   "version": "3.13.0"
  },
  "orig_nbformat": 4
 },
 "nbformat": 4,
 "nbformat_minor": 0
}
