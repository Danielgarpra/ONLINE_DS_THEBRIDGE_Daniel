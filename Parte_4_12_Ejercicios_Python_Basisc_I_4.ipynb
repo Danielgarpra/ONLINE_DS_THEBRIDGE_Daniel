{
  "cells": [
    {
      "cell_type": "markdown",
      "metadata": {
        "id": "Utn3_dw-JXQu"
      },
      "source": [
        "![TheBridge_logo_RGB_color.jpg](attachment:TheBridge_logo_RGB_color.jpg)"
      ]
    },
    {
      "cell_type": "markdown",
      "metadata": {
        "id": "ReO1MHWnJXQx"
      },
      "source": [
        "![imagen](./img/ejercicios.png)"
      ]
    },
    {
      "cell_type": "markdown",
      "metadata": {
        "id": "BwTL1CSUJXQy"
      },
      "source": [
        "## EJERCICIOS PYTHON BASICO 4:\n",
        "## Funciones, métodos, listas"
      ]
    },
    {
      "cell_type": "markdown",
      "metadata": {
        "id": "fJn2e1ugJXQz"
      },
      "source": [
        "Completa los siguiente ejercicios, la solución completa a los mismos se publicarán en el repo del curso a lo largo del sprint. En algunos ejercicios se muestra la solución final, para que puedas comprobar que lo has hecho bien, pero lo importante es el código que generes. ¡Vaaamos, a ello...!"
      ]
    },
    {
      "cell_type": "markdown",
      "metadata": {
        "id": "vvKCXltGJXQ0"
      },
      "source": [
        "![ejercicio.png](./img/ejercicio.png)\n",
        "\n",
        "## Ejercicio 1\n",
        "Para este ejercicio vamos a poner en práctica [las funciones built in](https://docs.python.org/3/library/functions.html).\n",
        "\n",
        "1. Calcula el máximo de la lista: [4, 6, 8, -1]\n",
        "2. Suma todos los elementos de la lista anterior\n",
        "3. Redondea este float a 3 dígitos decimales: 63.451256965\n",
        "4. Valor absoluto de: -74"
      ]
    },
    {
      "cell_type": "code",
      "execution_count": 1,
      "metadata": {
        "id": "lWGei9jgJXQ1",
        "outputId": "3c3ed04f-bbd4-41d5-88e9-22d1d6fde8a5",
        "colab": {
          "base_uri": "https://localhost:8080/"
        }
      },
      "outputs": [
        {
          "output_type": "stream",
          "name": "stdout",
          "text": [
            "8\n",
            "17\n",
            "63.451\n",
            "74\n"
          ]
        }
      ],
      "source": [
        "max1=max([4,6,8,-1])\n",
        "print(max1)\n",
        "suma=sum([4,6,8,-1])\n",
        "print(suma)\n",
        "max1=round(63.451256965,3)\n",
        "print(max1)\n",
        "max1=abs(-74)\n",
        "print(max1)"
      ]
    },
    {
      "cell_type": "markdown",
      "metadata": {
        "id": "EwupKnUzJXQ2"
      },
      "source": [
        "![ejercicio.png](./img/ejercicio.png)\n",
        "\n",
        "## Ejercicio 2\n",
        "Para el siguiente string se pide imprimir por pantalla los siguientes casos\n",
        "\n",
        "    \"En un lugar de la Mancha, de cuyo nombre no quiero acordarme.\"\n",
        "\n",
        "1. Pásalo todo a mayúsculas\n",
        "2. Pásalo todo a minúsculas\n",
        "3. Solo la primera letra de cada palabra en mayúscula, el resto en minúscula\n",
        "4. Crea una lista dividiéndolo por sus espacios\n",
        "5. Sustituye las comas `,` por puntos y comas `;`\n",
        "6. Elimina las `a` minúsculas"
      ]
    },
    {
      "cell_type": "code",
      "execution_count": 2,
      "metadata": {
        "id": "t3lsm9QqJXQ4",
        "outputId": "7bc4e86a-a049-4089-8eb2-6c106e2dd5f9",
        "colab": {
          "base_uri": "https://localhost:8080/"
        }
      },
      "outputs": [
        {
          "output_type": "stream",
          "name": "stdout",
          "text": [
            "EN UN LUGAR DE LA MANCHA, DE CUYO NOMBRE NO QUIERO ACORDARME.\n",
            "en un lugar de la mancha, de cuyo nombre no quiero acordarme.\n",
            "En Un Lugar De La Mancha, De Cuyo Nombre No Quiero Acordarme.\n",
            "['En', 'un', 'lugar', 'de', 'la', 'Mancha,', 'de', 'cuyo', 'nombre', 'no', 'quiero', 'acordarme.']\n",
            "En un lugar de la Mancha; de cuyo nombre no quiero acordarme.\n",
            "En un lugr de l Mnch, de cuyo nombre no quiero cordrme.\n"
          ]
        }
      ],
      "source": [
        "frase=\"En un lugar de la Mancha, de cuyo nombre no quiero acordarme.\"\n",
        "print(frase.upper())\n",
        "print(frase.lower())\n",
        "print(frase.title())\n",
        "print(frase.split())\n",
        "print(frase.replace(\",\",\";\"))\n",
        "print(frase.replace(\"a\",\"\"))"
      ]
    },
    {
      "cell_type": "markdown",
      "metadata": {
        "id": "Tt4vpIt4JXQ6"
      },
      "source": [
        "![ejercicio.png](./img/ejercicio.png)\n",
        "\n",
        "## Ejercicio 3\n",
        "1. Crea una lista con 3 elementos numéricos\n",
        "2. Añade un cuarto elemento\n",
        "3. Calcula la suma de todos\n",
        "4. Elimina el segundo elemento de la lista\n",
        "5. Añade otro elemento en la posicion 3 de la lista\n",
        "6. Crea otra lista con 4 elementos y concaténala a la que ya tenías.\n",
        "7. Ordena la lista de menor a mayor.\n",
        "8. BONUS: Ordena la lista de mayor a menor.  \n",
        "(*PISTA: Para hacer 8, tendrás que buscar en la información del método...*)  \n",
        "  \n",
        "  \n",
        "NOTA: Pinta por pantalla el resultado de cada paso."
      ]
    },
    {
      "cell_type": "code",
      "execution_count": 10,
      "metadata": {
        "id": "Vg54Kv6XJXQ6",
        "outputId": "d2589cbd-820a-4b20-febe-6abe0bd7fd94",
        "colab": {
          "base_uri": "https://localhost:8080/"
        }
      },
      "outputs": [
        {
          "output_type": "stream",
          "name": "stdout",
          "text": [
            "[1, 2, 3, 4]\n",
            "10\n",
            "[1, 3, 4]\n",
            "[1, 3, 5, 4]\n",
            "[1, 3, 3, 4, 4, 5, 5, 5]\n",
            "[5, 5, 5, 4, 4, 3, 3, 1]\n"
          ]
        }
      ],
      "source": [
        "lista=[1,2,3]\n",
        "lista.append(4)\n",
        "print(lista)\n",
        "suma=sum(lista)\n",
        "print(suma)\n",
        "lista.pop(1)\n",
        "print(lista)\n",
        "lista.insert(2,5)\n",
        "print(lista)\n",
        "lista2=[5,4,3,5]\n",
        "listatot=lista+lista2\n",
        "listatot.sort()\n",
        "print(listatot)\n",
        "listatot.sort(reverse=True)\n",
        "print(listatot)\n"
      ]
    }
  ],
  "metadata": {
    "kernelspec": {
      "display_name": "Curso_Online_DATA",
      "language": "python",
      "name": "python3"
    },
    "language_info": {
      "codemirror_mode": {
        "name": "ipython",
        "version": 3
      },
      "file_extension": ".py",
      "mimetype": "text/x-python",
      "name": "python",
      "nbconvert_exporter": "python",
      "pygments_lexer": "ipython3",
      "version": "3.11.5"
    },
    "orig_nbformat": 4,
    "colab": {
      "provenance": []
    }
  },
  "nbformat": 4,
  "nbformat_minor": 0
}